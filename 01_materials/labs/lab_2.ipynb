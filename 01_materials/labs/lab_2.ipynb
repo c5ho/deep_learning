{
 "cells": [
  {
   "cell_type": "markdown",
   "metadata": {},
   "source": [
    "# Backpropagation in Multilayer Neural Networks\n",
    "\n",
    "While we will primarily be working with high-level, abstract toolkits like Keras in this course, understanding how backpropagation works is absolutely essential to using neural networks. \n",
    "\n",
    "In this exercise, we will build our own backpropagation algorithm - working through each step, to ensure that we can follow it."
   ]
  },
  {
   "cell_type": "markdown",
   "metadata": {
    "collapsed": false
   },
   "source": [
    "Just like in Lab 1, we'll be working with the MNIST dataset. We will load it and plot an example:"
   ]
  },
  {
   "cell_type": "code",
   "execution_count": 1,
   "metadata": {},
   "outputs": [],
   "source": [
    "%matplotlib inline\n",
    "import matplotlib.pyplot as plt\n",
    "import numpy as np\n",
    "from sklearn.datasets import load_digits\n",
    "\n",
    "digits = load_digits()"
   ]
  },
  {
   "cell_type": "code",
   "execution_count": 2,
   "metadata": {},
   "outputs": [
    {
     "data": {
      "image/png": "[encoded data removed]",
      "text/plain": [
       "<Figure size 300x300 with 1 Axes>"
      ]
     },
     "metadata": {},
     "output_type": "display_data"
    }
   ],
   "source": [
    "sample_index = 45\n",
    "plt.figure(figsize=(3, 3))\n",
    "plt.imshow(digits.images[sample_index], cmap=plt.cm.gray_r,\n",
    "           interpolation='nearest')\n",
    "plt.title(\"image label: %d\" % digits.target[sample_index]);"
   ]
  },
  {
   "cell_type": "markdown",
   "metadata": {},
   "source": [
    "### Preprocessing\n",
    "\n",
    "Of course, we need to split our data into training and testing sets before we use it, just the same as in Lab 1:"
   ]
  },
  {
   "cell_type": "code",
   "execution_count": 3,
   "metadata": {},
   "outputs": [],
   "source": [
    "from sklearn.model_selection import train_test_split\n",
    "\n",
    "data = np.asarray(digits.data, dtype='float32')\n",
    "target = np.asarray(digits.target, dtype='int32')\n",
    "\n",
    "X_train, X_test, y_train, y_test = train_test_split(\n",
    "    data, target, test_size=0.15, random_state=37)"
   ]
  },
  {
   "cell_type": "markdown",
   "metadata": {},
   "source": [
    "# Numpy Implementation\n",
    "\n",
    "## a) Logistic Regression\n",
    "\n",
    "In this section we will implement a logistic regression model trainable with SGD using numpy. Here are the objectives:\n",
    "\n",
    "- Implement the softmax function $\\sigma(\\mathbf{x})_i = \\frac{e^{x_i}}{\\sum_{j=1}^n e^{x_j}}$;\n",
    "- Implement the negative log likelihood function $NLL(Y_{true}, Y_{pred}) = - \\sum_{i=1}^{n}{y_{true, i} \\cdot \\log(y_{pred, i})}$; (error function to evaluate how good/bad our predition is)\n",
    "- Train a logistic regression model on the MNIST dataset;\n",
    "- Evaluate the model on the training and testing sets.\n",
    "\n",
    "Before we get there, let's write a function that one-hot encodes the class labels:"
   ]
  },
  {
   "cell_type": "code",
   "execution_count": 4,
   "metadata": {},
   "outputs": [],
   "source": [
    "def one_hot(n_classes, y):\n",
    "    return np.eye(n_classes)[y]"
   ]
  },
  {
   "cell_type": "code",
   "execution_count": 5,
   "metadata": {},
   "outputs": [
    {
     "data": {
      "text/plain": [
       "array([0., 0., 0., 1., 0., 0., 0., 0., 0., 0.])"
      ]
     },
     "execution_count": 5,
     "metadata": {},
     "output_type": "execute_result"
    }
   ],
   "source": [
    "one_hot(n_classes=10, y=3)"
   ]
  },
  {
   "cell_type": "code",
   "execution_count": 6,
   "metadata": {},
   "outputs": [
    {
     "data": {
      "text/plain": [
       "array([[1., 0., 0., 0., 0., 0., 0., 0., 0., 0.],\n",
       "       [0., 0., 0., 0., 1., 0., 0., 0., 0., 0.],\n",
       "       [0., 0., 0., 0., 0., 0., 0., 0., 0., 1.],\n",
       "       [0., 1., 0., 0., 0., 0., 0., 0., 0., 0.]])"
      ]
     },
     "execution_count": 6,
     "metadata": {},
     "output_type": "execute_result"
    }
   ],
   "source": [
    "one_hot(n_classes=10, y=[0, 4, 9, 1])"
   ]
  },
  {
   "cell_type": "markdown",
   "metadata": {},
   "source": [
    "### The softmax function\n",
    "\n",
    "Now we will implement the softmax function. Recall that the softmax function is defined as follows:\n",
    "\n",
    "$$\n",
    "softmax(\\mathbf{x}) = \\frac{1}{\\sum_{i=1}^{n}{e^{x_i}}}\n",
    "\\cdot\n",
    "\\begin{bmatrix}\n",
    "  e^{x_1}\\\\\\\\\n",
    "  e^{x_2}\\\\\\\\\n",
    "  \\vdots\\\\\\\\\n",
    "  e^{x_n}\n",
    "\\end{bmatrix}\n",
    "$$\n",
    "\n",
    "This is implemented for you using numpy - we want to be able to apply the softmax function to a batch of samples at once, so we will use numpy's vectorized operations to do so. (softmax normalizes so that total of all of the values sums to 1)\n",
    "\n",
    "Our method also handles _stability issues_ that can occur when the values in `X` are very large. We will subtract the maximum value from each row of `X` to avoid overflow in the exponentiation. This isn't part of the softmax function itself, but it's a useful trick to know about."
   ]
  },
  {
   "cell_type": "code",
   "execution_count": 7,
   "metadata": {
    "collapsed": false
   },
   "outputs": [],
   "source": [
    "def softmax(X):\n",
    "    X_max = np.max(X, axis=-1, keepdims=True)\n",
    "    exp = np.exp(X - X_max) # Subtract the max to avoid overflow in the exponentiation\n",
    "    return exp / np.sum(exp, axis=-1, keepdims=True)\n"
   ]
  },
  {
   "cell_type": "markdown",
   "metadata": {},
   "source": [
    "Let's make sure that this works one vector at a time (and check that the components sum to one):"
   ]
  },
  {
   "cell_type": "code",
   "execution_count": 8,
   "metadata": {},
   "outputs": [
    {
     "name": "stdout",
     "output_type": "stream",
     "text": [
      "[9.99662391e-01 3.35349373e-04 2.25956630e-06]\n"
     ]
    }
   ],
   "source": [
    "print(softmax([10, 2, -3]))"
   ]
  },
  {
   "cell_type": "markdown",
   "metadata": {},
   "source": [
    "When we are using our model to make predictions, we will want to be able to make predictions for multiple samples at once.\n",
    "Let's make sure that our implementation of softmax works for a batch of samples:"
   ]
  },
  {
   "cell_type": "code",
   "execution_count": 9,
   "metadata": {},
   "outputs": [
    {
     "name": "stdout",
     "output_type": "stream",
     "text": [
      "[[9.99662391e-01 3.35349373e-04 2.25956630e-06]\n",
      " [2.47262316e-03 9.97527377e-01 1.38536042e-11]]\n"
     ]
    }
   ],
   "source": [
    "X = np.array([[10, 2, -3],\n",
    "              [-1, 5, -20]])\n",
    "print(softmax(X))"
   ]
  },
  {
   "cell_type": "markdown",
   "metadata": {},
   "source": [
    "Probabilities should sum to 1:"
   ]
  },
  {
   "cell_type": "code",
   "execution_count": 10,
   "metadata": {},
   "outputs": [
    {
     "name": "stdout",
     "output_type": "stream",
     "text": [
      "1.0\n"
     ]
    }
   ],
   "source": [
    "print(np.sum(softmax([10, 2, -3])))"
   ]
  },
  {
   "cell_type": "code",
   "execution_count": 11,
   "metadata": {},
   "outputs": [
    {
     "name": "stdout",
     "output_type": "stream",
     "text": [
      "softmax of 2 vectors:\n",
      "[[9.99662391e-01 3.35349373e-04 2.25956630e-06]\n",
      " [2.47262316e-03 9.97527377e-01 1.38536042e-11]]\n"
     ]
    }
   ],
   "source": [
    "print(\"softmax of 2 vectors:\")\n",
    "X = np.array([[10, 2, -3],\n",
    "              [-1, 5, -20]])\n",
    "print(softmax(X))"
   ]
  },
  {
   "cell_type": "markdown",
   "metadata": {},
   "source": [
    "The sum of probabilities for each input vector of logits should some to 1:"
   ]
  },
  {
   "cell_type": "code",
   "execution_count": 12,
   "metadata": {},
   "outputs": [
    {
     "name": "stdout",
     "output_type": "stream",
     "text": [
      "[1. 1.]\n"
     ]
    }
   ],
   "source": [
    "print(np.sum(softmax(X), axis=1))"
   ]
  },
  {
   "cell_type": "markdown",
   "metadata": {},
   "source": [
    "Now we will implement a function that, given the true one-hot encoded class `Y_true` and some predicted probabilities `Y_pred`, returns the negative log likelihood.\n",
    "\n",
    "Recall that the negative log likelihood (same as cross-entropy loss) is defined as follows:\n",
    "\n",
    "$$\n",
    "NLL(Y_{true}, Y_{pred}) = - \\sum_{i=1}^{n}{y_{true, i} \\cdot \\log(y_{pred, i})}\n",
    "$$\n",
    "\n",
    "For example, if we have $y_{true} = [1, 0, 0]$ and $y_{pred} = [0.99, 0.01, 0]$, then the negative log likelihood is $- \\log(0.99) \\approx 0.01$."
   ]
  },
  {
   "cell_type": "code",
   "execution_count": 13,
   "metadata": {},
   "outputs": [
    {
     "name": "stdout",
     "output_type": "stream",
     "text": [
      "0.01005033585350145\n"
     ]
    }
   ],
   "source": [
    "def nll(Y_true, Y_pred):\n",
    "    \n",
    "    # np.asarray converts input data into a NumPy array, if it isn't one already\n",
    "    Y_true = np.asarray(Y_true)\n",
    "    Y_pred = np.asarray(Y_pred)\n",
    "\n",
    "    # Ensure Y_pred doesn't have zero probabilities to avoid log(0)\n",
    "    Y_pred = np.clip(Y_pred, 1e-15, 1 - 1e-15)\n",
    "\n",
    "    # Calculate negative log likelihood\n",
    "    loss = -np.sum(Y_true * np.log(Y_pred))\n",
    "    return loss\n",
    "\n",
    "# Make sure that it works for a simple sample at a time\n",
    "print(nll([1, 0, 0], [.99, 0.01, 0]))"
   ]
  },
  {
   "cell_type": "markdown",
   "metadata": {},
   "source": [
    "We should see a very high value for this negative log likelihood, since the model is very confident that the third class is the correct one, but the true class is the first one:"
   ]
  },
  {
   "cell_type": "code",
   "execution_count": 14,
   "metadata": {},
   "outputs": [
    {
     "name": "stdout",
     "output_type": "stream",
     "text": [
      "4.605170185988091\n"
     ]
    }
   ],
   "source": [
    "print(nll([1, 0, 0], [0.01, 0.01, .98]))"
   ]
  },
  {
   "cell_type": "markdown",
   "metadata": {},
   "source": [
    "Make sure that your implementation can compute the average negative log likelihood of a group of predictions: `Y_pred` and `Y_true` can therefore be passed as 2D arrays:"
   ]
  },
  {
   "cell_type": "code",
   "execution_count": 15,
   "metadata": {},
   "outputs": [
    {
     "name": "stdout",
     "output_type": "stream",
     "text": [
      "0.010050335853503449\n"
     ]
    }
   ],
   "source": [
    "# Check that the average NLL of the following 3, almost perfect predictions is close to 0\n",
    "Y_true = np.array([[0, 1, 0],\n",
    "                   [1, 0, 0],\n",
    "                   [0, 0, 1]])\n",
    "\n",
    "Y_pred = np.array([[0,   1,    0],\n",
    "                   [.99, 0.01, 0],\n",
    "                   [0,   0,    1]])\n",
    "\n",
    "print(nll(Y_true, Y_pred))"
   ]
  },
  {
   "cell_type": "markdown",
   "metadata": {
    "collapsed": false
   },
   "source": [
    "Now that we have our softmax and negative log likelihood functions, we can implement a logistic regression model. \n",
    "In this section, we have built the model for you, but you will need to complete a few key parts.\n",
    "\n",
    "**YOUR TURN:**\n",
    "\n",
    "1. Implement the `forward` method of the `LogisticRegression` class. This method should take in a batch of samples `X` and return the predicted probabilities for each class. You should use the softmax function that we implemented earlier.\n",
    "2. Implement the `loss` method of the `LogisticRegression` class. This method take in the samples `X` and the true values `y` and return the average negative log likelihood of the predictions."
   ]
  },
  {
   "cell_type": "code",
   "execution_count": 18,
   "metadata": {
    "collapsed": false
   },
   "outputs": [],
   "source": [
    "class LogisticRegression:\n",
    "\n",
    "    def __init__(self, input_size, output_size):\n",
    "        # Initialize the weights and biases with random numbers\n",
    "        self.W = np.random.uniform(size=(input_size, output_size),\n",
    "                                   high=0.1, low=-0.1)\n",
    "        self.b = np.random.uniform(size=output_size,\n",
    "                                   high=0.1, low=-0.1)\n",
    "        \n",
    "        # Store the input size and output size\n",
    "        self.output_size = output_size\n",
    "        self.input_size = input_size\n",
    "        \n",
    "    def forward(self, X):\n",
    "        # Compute the linear combination of the input and weights\n",
    "        Z = np.dot(X, self.W) + self.b # wx + b (multiply inputs by weights and add bias)\n",
    "        return softmax(Z) # apply softmax activation fn\n",
    "    \n",
    "    def predict(self, X):\n",
    "        # Return the most probable class for each sample in X\n",
    "        if len(X.shape) == 1:\n",
    "            return np.argmax(self.forward(X))\n",
    "        else:\n",
    "            return np.argmax(self.forward(X), axis=1)\n",
    "            \n",
    "    def loss(self, X, y):\n",
    "        # Compute the negative log likelihood over the data provided\n",
    "        y_onehot = one_hot(self.output_size, y.astype(int))\n",
    "        y_pred = self.forward(X) # make prediction using self.forward fn\n",
    "        loss_value = nll(y_onehot, y_pred)\n",
    "        return loss_value # return nll(y_onehot, y_pred)\n",
    "\n",
    "    def grad_loss(self, X, y_true, y_pred):\n",
    "        # Compute the gradient of the loss with respect to W and b for a single sample (X, y_true)\n",
    "        # y_pred is the output of the forward pass\n",
    "    \n",
    "        # Gradient with respect to weights\n",
    "        grad_W = np.dot(X.T, (y_pred - y_true))\n",
    "    \n",
    "        # Gradient with respect to biases\n",
    "        grad_b = np.sum(y_pred - y_true, axis=0)\n",
    "    \n",
    "        return grad_W, grad_b\n",
    "    \n",
    "# Raise an exception if you try to run this cell without having implemented the LogisticRegression class\n",
    "model = LogisticRegression(input_size=64, output_size=10)\n",
    "try:\n",
    "    assert(model.forward(np.zeros((1, 64))).shape == (1, 10))\n",
    "    assert(model.loss(np.zeros((1, 64)), np.zeros(1)) > 0)\n",
    "except:\n",
    "    raise NotImplementedError(\"You need to correctly implement the LogisticRegression class.\")"
   ]
  },
  {
   "cell_type": "code",
   "execution_count": 20,
   "metadata": {
    "collapsed": false
   },
   "outputs": [],
   "source": [
    "# Build a model and test its forward inference\n",
    "n_features = X_train.shape[1]\n",
    "n_classes = len(np.unique(y_train))\n",
    "lr = LogisticRegression(n_features, n_classes)"
   ]
  },
  {
   "cell_type": "markdown",
   "metadata": {
    "collapsed": false
   },
   "source": [
    "We can evaluate the model on an example, visualizing the prediction probabilities:"
   ]
  },
  {
   "cell_type": "code",
   "execution_count": 21,
   "metadata": {
    "collapsed": false
   },
   "outputs": [
    {
     "data": {
      "image/png": "[encoded data removed]",
      "text/plain": [
       "<Figure size 1000x400 with 2 Axes>"
      ]
     },
     "metadata": {},
     "output_type": "display_data"
    }
   ],
   "source": [
    "def plot_prediction(model, sample_idx=0, classes=range(10)):\n",
    "    fig, (ax0, ax1) = plt.subplots(nrows=1, ncols=2, figsize=(10, 4))\n",
    "\n",
    "    ax0.imshow(X_test[sample_idx:sample_idx+1].reshape(8, 8),\n",
    "               cmap=plt.cm.gray_r, interpolation='nearest')\n",
    "    ax0.set_title(\"True image label: %d\" % y_test[sample_idx]);\n",
    "\n",
    "\n",
    "    ax1.bar(classes, one_hot(len(classes), y_test[sample_idx]), label='true')\n",
    "    ax1.bar(classes, model.forward(X_test[sample_idx]), label='prediction', color=\"red\")\n",
    "    ax1.set_xticks(classes)\n",
    "    prediction = model.predict(X_test[sample_idx])\n",
    "    ax1.set_title('Output probabilities (prediction: %d)'\n",
    "                  % prediction)\n",
    "    ax1.set_xlabel('Digit class')\n",
    "    ax1.legend()\n",
    "\n",
    "plot_prediction(lr, sample_idx=0)\n",
    "    "
   ]
  },
  {
   "cell_type": "markdown",
   "metadata": {
    "collapsed": false
   },
   "source": [
    "Now it's time to start training! We will train for a single epoch, and then evaluate the model on the training and testing sets. Read through the following and make sure that you understand what we are doing here."
   ]
  },
  {
   "cell_type": "code",
   "execution_count": 22,
   "metadata": {
    "collapsed": false
   },
   "outputs": [
    {
     "name": "stdout",
     "output_type": "stream",
     "text": [
      "Average NLL over the last 100 samples at step 0: -0\n",
      "Average NLL over the last 100 samples at step 100: 327\n",
      "Average NLL over the last 100 samples at step 200: 198\n",
      "Average NLL over the last 100 samples at step 300: 237\n",
      "Average NLL over the last 100 samples at step 400: 60\n",
      "Average NLL over the last 100 samples at step 500: 145\n",
      "Average NLL over the last 100 samples at step 600: 35\n",
      "Average NLL over the last 100 samples at step 700: 195\n",
      "Average NLL over the last 100 samples at step 800: 98\n",
      "Average NLL over the last 100 samples at step 900: 69\n",
      "Average NLL over the last 100 samples at step 1000: 110\n",
      "Average NLL over the last 100 samples at step 1100: 137\n",
      "Average NLL over the last 100 samples at step 1200: 149\n",
      "Average NLL over the last 100 samples at step 1300: 406\n",
      "Average NLL over the last 100 samples at step 1400: 37\n",
      "Average NLL over the last 100 samples at step 1500: 48\n"
     ]
    }
   ],
   "source": [
    "lr = LogisticRegression(input_size=X_train.shape[1], output_size=10)\n",
    "\n",
    "learning_rate = 0.01\n",
    "\n",
    "for i in range(len(X_train)):\n",
    "    # Get the current sample and corresponding label\n",
    "    x = X_train[i:i+1]  # Reshape to keep the batch dimension\n",
    "    y = y_train[i:i+1]  # Reshape to keep the batch dimension\n",
    "\n",
    "    # Compute the forward pass and the gradient of the loss with respect to W and b\n",
    "    # Make a prediction, compute the gradient in the error wrt to each parameter, then change values \n",
    "    # of weights and biases so they move away from the error, and towards the correct value\n",
    "    y_pred = lr.forward(x)\n",
    "    grad_W, grad_b = lr.grad_loss(x, one_hot(lr.output_size, y), y_pred)\n",
    "\n",
    "    # Update the weights and biases\n",
    "    lr.W -= learning_rate * grad_W\n",
    "    lr.b -= learning_rate * grad_b\n",
    "\n",
    "    # Print the average negative log likelihood every 100 steps (every 100 samples, print out the current error for the last 100 steps)\n",
    "    if i % 100 == 0:\n",
    "        avg_nll = lr.loss(X_train[max(0, i-100):i], y_train[max(0, i-100):i])\n",
    "        print(\"Average NLL over the last 100 samples at step %d: %0.f\" % (i, avg_nll))\n"
   ]
  },
  {
   "cell_type": "markdown",
   "metadata": {
    "collapsed": false
   },
   "source": [
    "Evaluate the trained model on the first example:"
   ]
  },
  {
   "cell_type": "code",
   "execution_count": 23,
   "metadata": {
    "collapsed": false
   },
   "outputs": [
    {
     "data": {
      "image/png": "[encoded data removed]",
      "text/plain": [
       "<Figure size 1000x400 with 2 Axes>"
      ]
     },
     "metadata": {},
     "output_type": "display_data"
    }
   ],
   "source": [
    "plot_prediction(lr, sample_idx=0)"
   ]
  },
  {
   "cell_type": "markdown",
   "metadata": {},
   "source": [
    "## b) Feedforward Multilayer\n",
    "\n",
    "The objective of this section is to implement the backpropagation algorithm (SGD with the chain rule) on a single layer neural network using the sigmoid activation function.\n",
    "\n",
    "Now it's your turn to\n",
    "\n",
    "- Implement the `sigmoid` and its element-wise derivative `dsigmoid` functions:\n",
    "\n",
    "$$\n",
    "sigmoid(x) = \\frac{1}{1 + e^{-x}}\n",
    "$$\n",
    "\n",
    "$$\n",
    "dsigmoid(x) = sigmoid(x) \\cdot (1 - sigmoid(x))\n",
    "$$\n",
    "\n",
    "Remember that you can use your `sigmoid` function inside your `dsigmoid` function.\n",
    "\n",
    "Just like with our softmax function, we also want to make sure that we don't run into stability issues with our sigmoid function. We will use `np.clip` to ensure that the input to the sigmoid function is not too large or too small."
   ]
  },
  {
   "cell_type": "code",
   "execution_count": 24,
   "metadata": {},
   "outputs": [
    {
     "data": {
      "image/png": "[encoded data removed]",
      "text/plain": [
       "<Figure size 640x480 with 1 Axes>"
      ]
     },
     "metadata": {},
     "output_type": "display_data"
    }
   ],
   "source": [
    "def sigmoid(X):\n",
    "    # Clip X to prevent overflow or underflow\n",
    "    X = np.clip(X, -500, 500) # This ensures that np.exp(X) doesn't overflow\n",
    "    return 1 / (1 + np.exp(-X)) # Numpy implemntation of 1/(1 + e^(-X))\n",
    "\n",
    "\n",
    "def dsigmoid(X):\n",
    "    return sigmoid(X) * (1 - sigmoid(X))\n",
    "\n",
    "\n",
    "x = np.linspace(-5, 5, 100)\n",
    "plt.plot(x, sigmoid(x), label='sigmoid')\n",
    "plt.plot(x, dsigmoid(x), label='dsigmoid')\n",
    "plt.legend(loc='best');"
   ]
  },
  {
   "cell_type": "markdown",
   "metadata": {},
   "source": [
    "Now it's your turn to complete the neural network code, so that we can train it on the MNIST dataset.\n",
    "\n",
    "Some parts have been completed for you already. Often, you'll be able to refer back to the code from the previous section to help you complete the code in this section."
   ]
  },
  {
   "cell_type": "code",
   "execution_count": 25,
   "metadata": {},
   "outputs": [],
   "source": [
    "class NeuralNet():\n",
    "    \"\"\"MLP with 1 hidden layer with a sigmoid activation\"\"\"\n",
    "\n",
    "    def __init__(self, input_size, hidden_size, output_size):\n",
    "        # Initializes the weights with random numbers\n",
    "        # weights for hidden layer\n",
    "        self.W_h = np.random.uniform(size=(input_size, hidden_size),\n",
    "                                     high=0.1, low=-0.1)\n",
    "        # biases for hidden layer\n",
    "        self.b_h = np.random.uniform(size=hidden_size,\n",
    "                                     high=0.1, low=-0.1)\n",
    "        # weights for second layer\n",
    "        self.W_o = np.random.uniform(size=(hidden_size, output_size),\n",
    "                                     high=0.1, low=-0.1)\n",
    "        # biases for second layer\n",
    "        self.b_o = np.random.uniform(size=output_size,\n",
    "                                     high=0.1, low=-0.1)\n",
    "\n",
    "        # Store the input size, hidden size and output size\n",
    "        self.input_size = input_size\n",
    "        self.hidden_size = hidden_size\n",
    "        self.output_size = output_size\n",
    "\n",
    "    def forward_hidden(self, X):\n",
    "        # Compute the linear combination of the input and weights\n",
    "        self.Z_h = np.dot(X, self.W_h) + self.b_h # wx+b\n",
    "\n",
    "        # Apply the sigmoid activation function\n",
    "        return sigmoid(self.Z_h)\n",
    "\n",
    "    def forward_output(self, H):\n",
    "        # Compute the linear combination of the hidden layer activation and weights\n",
    "        self.Z_o = np.dot(H, self.W_o) + self.b_o # wx+b\n",
    "\n",
    "        # Apply the sigmoid activation function\n",
    "        return sigmoid(self.Z_o)\n",
    "\n",
    "    def forward(self, X):\n",
    "        # Compute the forward activations of the hidden and output layers\n",
    "        H = self.forward_hidden(X)\n",
    "        Y = self.forward_output(H)\n",
    "\n",
    "        return Y\n",
    "\n",
    "    def loss(self, X, y):\n",
    "        y_onehot = one_hot(self.output_size, y.astype(int))\n",
    "        y_pred = self.forward(X)\n",
    "        return nll(y_onehot, y_pred)\n",
    "\n",
    "    def grad_loss(self, X, y_true):\n",
    "        y_true = one_hot(self.output_size, y_true)\n",
    "        y_pred = self.forward(X)\n",
    "\n",
    "        # Compute the error at the output layer\n",
    "        error_o = y_pred - y_true\n",
    "\n",
    "        # Compute the gradient of the loss with respect to W_o and b_o\n",
    "        grad_W_o = np.dot(self.Z_h.T, error_o)\n",
    "        grad_b_o = np.sum(error_o, axis=0)\n",
    "\n",
    "        # Compute the error at the hidden layer\n",
    "        error_h = np.dot(error_o, self.W_o.T) * dsigmoid(self.Z_h)\n",
    "\n",
    "        # Compute the gradient of the loss with respect to W_h and b_h\n",
    "        grad_W_h = np.dot(X.T, error_h)\n",
    "        grad_b_h = np.sum(error_h, axis=0)\n",
    "\n",
    "        return {\"W_h\": grad_W_h, \"b_h\": grad_b_h, \"W_o\": grad_W_o, \"b_o\": grad_b_o}\n",
    "\n",
    "    def train(self, x, y, learning_rate):\n",
    "        # Ensure x is 2D\n",
    "        x = x[np.newaxis, :]\n",
    "        # Compute the gradient for the sample and update the weights\n",
    "        grads = self.grad_loss(x, y)\n",
    "    \n",
    "        self.W_h -= learning_rate * grads[\"W_h\"]\n",
    "        self.b_h -= learning_rate * grads[\"b_h\"]\n",
    "        self.W_o -= learning_rate * grads[\"W_o\"]\n",
    "        self.b_o -= learning_rate * grads[\"b_o\"]\n",
    "        \n",
    "    def predict(self, X):\n",
    "        if len(X.shape) == 1:\n",
    "            return np.argmax(self.forward(X))\n",
    "        else:\n",
    "            return np.argmax(self.forward(X), axis=1)\n",
    "\n",
    "    def accuracy(self, X, y):\n",
    "        y_preds = np.argmax(self.forward(X), axis=1)\n",
    "        return np.mean(y_preds == y)\n",
    "    \n",
    "# Raise an exception if you try to run this cell without having implemented the NeuralNet class\n",
    "nn = NeuralNet(input_size=64, hidden_size=32, output_size=10)\n",
    "try:\n",
    "    assert(nn.forward(np.zeros((1, 64))).shape == (1, 10))\n",
    "    assert(nn.loss(np.zeros((1, 64)), np.zeros(1)) > 0)\n",
    "except:\n",
    "    raise NotImplementedError(\"You need to correctly implement the NeuralNet class.\")"
   ]
  },
  {
   "cell_type": "markdown",
   "metadata": {
    "collapsed": false
   },
   "source": [
    "Once the code is written, we can test our model on a single sample:"
   ]
  },
  {
   "cell_type": "code",
   "execution_count": 26,
   "metadata": {},
   "outputs": [],
   "source": [
    "n_hidden = 10\n",
    "model = NeuralNet(n_features, n_hidden, n_classes)"
   ]
  },
  {
   "cell_type": "code",
   "execution_count": 27,
   "metadata": {},
   "outputs": [
    {
     "data": {
      "text/plain": [
       "988.4242219134699"
      ]
     },
     "execution_count": 27,
     "metadata": {},
     "output_type": "execute_result"
    }
   ],
   "source": [
    "model.loss(X_train, y_train)"
   ]
  },
  {
   "cell_type": "code",
   "execution_count": 28,
   "metadata": {},
   "outputs": [
    {
     "data": {
      "text/plain": [
       "0.11591355599214145"
      ]
     },
     "execution_count": 28,
     "metadata": {},
     "output_type": "execute_result"
    }
   ],
   "source": [
    "model.accuracy(X_train, y_train)"
   ]
  },
  {
   "cell_type": "code",
   "execution_count": 30,
   "metadata": {},
   "outputs": [
    {
     "data": {
      "image/png": "[encoded data removed]",
      "text/plain": [
       "<Figure size 1000x400 with 2 Axes>"
      ]
     },
     "metadata": {},
     "output_type": "display_data"
    }
   ],
   "source": [
    "plot_prediction(model, sample_idx=5)"
   ]
  },
  {
   "cell_type": "markdown",
   "metadata": {
    "collapsed": false
   },
   "source": [
    "And now it's time to train!"
   ]
  },
  {
   "cell_type": "code",
   "execution_count": 31,
   "metadata": {},
   "outputs": [
    {
     "name": "stdout",
     "output_type": "stream",
     "text": [
      "Random init: train loss: 988.42422, train acc: 0.116, test acc: 0.100\n",
      "Epoch #1, train loss: 3281.32999, train acc: 0.259, test acc: 0.200\n",
      "Epoch #2, train loss: 2622.45821, train acc: 0.466, test acc: 0.400\n",
      "Epoch #3, train loss: 1974.48052, train acc: 0.683, test acc: 0.630\n",
      "Epoch #4, train loss: 1578.09726, train acc: 0.785, test acc: 0.763\n",
      "Epoch #5, train loss: 1338.76942, train acc: 0.813, test acc: 0.793\n",
      "Epoch #6, train loss: 1159.26945, train acc: 0.840, test acc: 0.826\n",
      "Epoch #7, train loss: 999.93983, train acc: 0.879, test acc: 0.856\n",
      "Epoch #8, train loss: 869.69738, train acc: 0.898, test acc: 0.867\n",
      "Epoch #9, train loss: 816.03651, train acc: 0.914, test acc: 0.900\n",
      "Epoch #10, train loss: 766.35311, train acc: 0.921, test acc: 0.893\n",
      "Epoch #11, train loss: 718.34965, train acc: 0.927, test acc: 0.893\n",
      "Epoch #12, train loss: 673.12740, train acc: 0.930, test acc: 0.889\n",
      "Epoch #13, train loss: 630.89804, train acc: 0.929, test acc: 0.900\n",
      "Epoch #14, train loss: 587.54356, train acc: 0.932, test acc: 0.900\n",
      "Epoch #15, train loss: 539.71027, train acc: 0.934, test acc: 0.893\n"
     ]
    }
   ],
   "source": [
    "losses, accuracies, accuracies_test = [], [], []\n",
    "losses.append(model.loss(X_train, y_train))\n",
    "accuracies.append(model.accuracy(X_train, y_train))\n",
    "accuracies_test.append(model.accuracy(X_test, y_test))\n",
    "\n",
    "print(\"Random init: train loss: %0.5f, train acc: %0.3f, test acc: %0.3f\"\n",
    "      % (losses[-1], accuracies[-1], accuracies_test[-1]))\n",
    "\n",
    "for epoch in range(15):\n",
    "    for i, (x, y) in enumerate(zip(X_train, y_train)):\n",
    "        model.train(x, y, 0.001) # learning rate of 0.001, batch size of 1\n",
    "\n",
    "    losses.append(model.loss(X_train, y_train))\n",
    "    accuracies.append(model.accuracy(X_train, y_train))\n",
    "    accuracies_test.append(model.accuracy(X_test, y_test))\n",
    "    print(\"Epoch #%d, train loss: %0.5f, train acc: %0.3f, test acc: %0.3f\"\n",
    "          % (epoch + 1, losses[-1], accuracies[-1], accuracies_test[-1]))"
   ]
  },
  {
   "cell_type": "code",
   "execution_count": 32,
   "metadata": {},
   "outputs": [
    {
     "data": {
      "image/png": "[encoded data removed]",
      "text/plain": [
       "<Figure size 640x480 with 1 Axes>"
      ]
     },
     "metadata": {},
     "output_type": "display_data"
    }
   ],
   "source": [
    "plt.plot(losses)\n",
    "plt.title(\"Training loss\");"
   ]
  },
  {
   "cell_type": "code",
   "execution_count": 33,
   "metadata": {},
   "outputs": [
    {
     "data": {
      "image/png": "[encoded data removed]",
      "text/plain": [
       "<Figure size 640x480 with 1 Axes>"
      ]
     },
     "metadata": {},
     "output_type": "display_data"
    }
   ],
   "source": [
    "plt.plot(accuracies, label='train')\n",
    "plt.plot(accuracies_test, label='test')\n",
    "plt.ylim(0, 1.1)\n",
    "plt.ylabel(\"accuracy\")\n",
    "plt.legend(loc='best');"
   ]
  },
  {
   "cell_type": "code",
   "execution_count": 34,
   "metadata": {},
   "outputs": [
    {
     "data": {
      "image/png": "[encoded data removed]",
      "text/plain": [
       "<Figure size 1000x400 with 2 Axes>"
      ]
     },
     "metadata": {},
     "output_type": "display_data"
    }
   ],
   "source": [
    "plot_prediction(model, sample_idx=4)"
   ]
  },
  {
   "cell_type": "markdown",
   "metadata": {},
   "source": [
    "## c) Exercises\n",
    "\n",
    "### Look at worst prediction errors\n",
    "\n",
    "- Use numpy to find test samples for which the model made the worst predictions,\n",
    "- Use the `plot_prediction` to look at the model predictions on those,\n",
    "- Would you have done any better?"
   ]
  },
  {
   "cell_type": "code",
   "execution_count": 35,
   "metadata": {},
   "outputs": [
    {
     "name": "stdout",
     "output_type": "stream",
     "text": [
      "Highest test losses: 5.81851\n"
     ]
    }
   ],
   "source": [
    "# Compute loss values of the test set, and find the highest losses  \n",
    "\n",
    "test_losses = []\n",
    "for x, y in zip(X_test, y_test):\n",
    "    test_losses.append(model.loss(x, y))\n",
    "print(\"Highest test losses: %0.5f\" % np.max(test_losses))"
   ]
  },
  {
   "cell_type": "code",
   "execution_count": 52,
   "metadata": {},
   "outputs": [
    {
     "data": {
      "image/png": "[encoded data removed]",
      "text/plain": [
       "<Figure size 1500x600 with 10 Axes>"
      ]
     },
     "metadata": {},
     "output_type": "display_data"
    }
   ],
   "source": [
    "# Make predictions on the test set and sort by error\n",
    "\n",
    "y_pred = nn.predict(X_test)\n",
    "errors = np.abs(y_pred - y_test) # absolute error between predicted and true labels in an array\n",
    "\n",
    "# Can also use negative log likelihood for errors\n",
    "# errors = nll(one_hot(n_classes, y_test), nn.forward(X_test))\n",
    "\n",
    "sorted_indices = np.argsort(errors) # sorts array values and returns the indices that would sort the array\n",
    "# print(\"Worst predictions: %s\" % sorted_indices[-10:])\n",
    "\n",
    "# Plot the 10 worst predictions\n",
    "fig, axes = plt.subplots(2, 5, figsize=(15, 6))\n",
    "for i, index in enumerate(sorted_indices[-10:]):\n",
    "    ax = axes[i // 5, i % 5]\n",
    "    ax.imshow(X_test[index].reshape(8, 8), cmap=plt.cm.gray_r, interpolation='nearest')\n",
    "    ax.set_title(\"Predicted: %d, True: %d\" % (y_pred[index], y_test[index]))\n",
    "    ax.axis('off')"
   ]
  },
  {
   "cell_type": "markdown",
   "metadata": {},
   "source": [
    "### Hyper parameters settings\n",
    "\n",
    "- Experiment with different hyperparameters:\n",
    "  - learning rate,\n",
    "  - size of hidden layer (number of neurons in that layer),\n",
    "  - implement the support for a second hidden layer.\n",
    "  - What is the best test accuracy you can get?"
   ]
  },
  {
   "cell_type": "code",
   "execution_count": 53,
   "metadata": {},
   "outputs": [
    {
     "name": "stdout",
     "output_type": "stream",
     "text": [
      "    learning_rate  hidden_size  train_loss  train_acc  test_acc\n",
      "5           0.002           32  358.012666   0.977079  0.959259\n",
      "7           0.002          128  212.517049   0.979044  0.955556\n",
      "3           0.001          128  354.101869   0.969876  0.951852\n",
      "10          0.005           64  171.339216   0.969876  0.951852\n",
      "2           0.001           64  453.944863   0.957433  0.940741\n",
      "11          0.005          128  153.764551   0.976424  0.940741\n",
      "6           0.002           64  277.508730   0.974460  0.933333\n",
      "1           0.001           32  502.715664   0.961362  0.933333\n",
      "4           0.002           16  513.537200   0.945645  0.918519\n",
      "0           0.001           16  780.642313   0.937787  0.907407\n",
      "9           0.005           32  374.998463   0.958088  0.907407\n",
      "8           0.005           16  996.022719   0.855927  0.866667\n"
     ]
    }
   ],
   "source": [
    "# Experiment with different combinations of learning rates and hidden layer sizes\n",
    "\n",
    "import pandas as pd\n",
    "\n",
    "results_df = []\n",
    "for learning_rate in [0.001, 0.002, 0.005]:\n",
    "    for hidden_size in [16, 32, 64, 128]:\n",
    "        nn = NeuralNet(n_features, hidden_size, n_classes)\n",
    "        for epoch in range(5):\n",
    "            for i, (x, y) in enumerate(zip(X_train, y_train)):\n",
    "                nn.train(x, y, learning_rate)\n",
    "\n",
    "        train_loss = nn.loss(X_train, y_train)\n",
    "        train_acc = nn.accuracy(X_train, y_train)\n",
    "        test_acc = nn.accuracy(X_test, y_test)\n",
    "\n",
    "        results_df.append({\n",
    "            'learning_rate': learning_rate,\n",
    "            'hidden_size': hidden_size,\n",
    "            'train_loss': train_loss,\n",
    "            'train_acc': train_acc,\n",
    "            'test_acc': test_acc\n",
    "        })\n",
    "\n",
    "results_df = pd.DataFrame(results_df)\n",
    "results_df.sort_values(by='test_acc', ascending=False, inplace=True)\n",
    "print(results_df)"
   ]
  },
  {
   "cell_type": "code",
   "execution_count": 33,
   "metadata": {
    "collapsed": false
   },
   "outputs": [
    {
     "name": "stdout",
     "output_type": "stream",
     "text": [
      "Random init: train loss: 1081.38493, train acc: 0.053, test acc: 0.078\n",
      "Epoch #1, train loss: 2522.37662, train acc: 0.464, test acc: 0.404\n",
      "Epoch #2, train loss: 1478.10761, train acc: 0.787, test acc: 0.707\n",
      "Epoch #3, train loss: 924.15035, train acc: 0.901, test acc: 0.874\n",
      "Epoch #4, train loss: 706.35629, train acc: 0.916, test acc: 0.878\n",
      "Epoch #5, train loss: 610.28244, train acc: 0.919, test acc: 0.878\n",
      "Epoch #6, train loss: 599.06195, train acc: 0.896, test acc: 0.867\n",
      "Epoch #7, train loss: 503.13147, train acc: 0.940, test acc: 0.874\n",
      "Epoch #8, train loss: 556.74791, train acc: 0.926, test acc: 0.878\n",
      "Epoch #9, train loss: 622.51264, train acc: 0.893, test acc: 0.859\n",
      "Epoch #10, train loss: 484.42908, train acc: 0.913, test acc: 0.881\n",
      "Epoch #11, train loss: 353.59612, train acc: 0.936, test acc: 0.896\n",
      "Epoch #12, train loss: 570.91193, train acc: 0.898, test acc: 0.863\n",
      "Epoch #13, train loss: 491.33016, train acc: 0.883, test acc: 0.841\n",
      "Epoch #14, train loss: 502.34661, train acc: 0.900, test acc: 0.867\n",
      "Epoch #15, train loss: 310.70544, train acc: 0.942, test acc: 0.881\n"
     ]
    }
   ],
   "source": [
    "# Different learning rate (0.002)\n",
    "\n",
    "n_hidden = 10\n",
    "model = NeuralNet(n_features, n_hidden, n_classes)\n",
    "\n",
    "losses, accuracies, accuracies_test = [], [], []\n",
    "losses.append(model.loss(X_train, y_train))\n",
    "accuracies.append(model.accuracy(X_train, y_train))\n",
    "accuracies_test.append(model.accuracy(X_test, y_test))\n",
    "\n",
    "print(\"Random init: train loss: %0.5f, train acc: %0.3f, test acc: %0.3f\"\n",
    "      % (losses[-1], accuracies[-1], accuracies_test[-1]))\n",
    "\n",
    "for epoch in range(15):\n",
    "    for i, (x, y) in enumerate(zip(X_train, y_train)):\n",
    "        model.train(x, y, 0.002) # Learning rate here is set to 0.002\n",
    "\n",
    "    losses.append(model.loss(X_train, y_train))\n",
    "    accuracies.append(model.accuracy(X_train, y_train))\n",
    "    accuracies_test.append(model.accuracy(X_test, y_test))\n",
    "    print(\"Epoch #%d, train loss: %0.5f, train acc: %0.3f, test acc: %0.3f\"\n",
    "          % (epoch + 1, losses[-1], accuracies[-1], accuracies_test[-1]))"
   ]
  },
  {
   "cell_type": "code",
   "execution_count": 34,
   "metadata": {},
   "outputs": [
    {
     "name": "stdout",
     "output_type": "stream",
     "text": [
      "Random init: train loss: 926.65335, train acc: 0.122, test acc: 0.141\n",
      "Epoch #1, train loss: 1305.51847, train acc: 0.863, test acc: 0.852\n",
      "Epoch #2, train loss: 780.65257, train acc: 0.923, test acc: 0.911\n",
      "Epoch #3, train loss: 564.67473, train acc: 0.940, test acc: 0.933\n",
      "Epoch #4, train loss: 451.16755, train acc: 0.949, test acc: 0.937\n",
      "Epoch #5, train loss: 381.37943, train acc: 0.956, test acc: 0.941\n",
      "Epoch #6, train loss: 333.13955, train acc: 0.961, test acc: 0.948\n",
      "Epoch #7, train loss: 297.05078, train acc: 0.965, test acc: 0.952\n",
      "Epoch #8, train loss: 268.25558, train acc: 0.971, test acc: 0.952\n",
      "Epoch #9, train loss: 244.33324, train acc: 0.976, test acc: 0.952\n",
      "Epoch #10, train loss: 224.06403, train acc: 0.979, test acc: 0.952\n",
      "Epoch #11, train loss: 206.66984, train acc: 0.981, test acc: 0.956\n",
      "Epoch #12, train loss: 191.56561, train acc: 0.984, test acc: 0.959\n",
      "Epoch #13, train loss: 178.30234, train acc: 0.986, test acc: 0.967\n",
      "Epoch #14, train loss: 166.54604, train acc: 0.988, test acc: 0.967\n",
      "Epoch #15, train loss: 156.05378, train acc: 0.988, test acc: 0.967\n"
     ]
    }
   ],
   "source": [
    "# Size of hidden layer = 100\n",
    "\n",
    "n_hidden = 100\n",
    "model = NeuralNet(n_features, n_hidden, n_classes)\n",
    "\n",
    "losses, accuracies, accuracies_test = [], [], []\n",
    "losses.append(model.loss(X_train, y_train))\n",
    "accuracies.append(model.accuracy(X_train, y_train))\n",
    "accuracies_test.append(model.accuracy(X_test, y_test))\n",
    "\n",
    "print(\"Random init: train loss: %0.5f, train acc: %0.3f, test acc: %0.3f\"\n",
    "      % (losses[-1], accuracies[-1], accuracies_test[-1]))\n",
    "\n",
    "for epoch in range(15):\n",
    "    for i, (x, y) in enumerate(zip(X_train, y_train)):\n",
    "        model.train(x, y, 0.001) # Learning rate here is set to 0.001\n",
    "\n",
    "    losses.append(model.loss(X_train, y_train))\n",
    "    accuracies.append(model.accuracy(X_train, y_train))\n",
    "    accuracies_test.append(model.accuracy(X_test, y_test))\n",
    "    print(\"Epoch #%d, train loss: %0.5f, train acc: %0.3f, test acc: %0.3f\"\n",
    "          % (epoch + 1, losses[-1], accuracies[-1], accuracies_test[-1]))"
   ]
  },
  {
   "cell_type": "code",
   "execution_count": 35,
   "metadata": {},
   "outputs": [],
   "source": [
    "# Add second hidden layer in NeuralNet class\n",
    "\n",
    "class NeuralNet2():\n",
    "    \"\"\"MLP with 1 hidden layer with a sigmoid activation\"\"\"\n",
    "\n",
    "    def __init__(self, input_size, hidden_size, output_size):\n",
    "        # First hidden layer weights and biases\n",
    "        self.W_h1 = np.random.uniform(size=(input_size, hidden_size), high=0.1, low=-0.1)\n",
    "        self.b_h1 = np.random.uniform(size=hidden_size, high=0.1, low=-0.1)\n",
    "\n",
    "        # Second hidden layer weights and biases\n",
    "        self.W_h2 = np.random.uniform(size=(hidden_size, hidden_size), high=0.1, low=-0.1)\n",
    "        self.b_h2 = np.random.uniform(size=hidden_size, high=0.1, low=-0.1)\n",
    "        \n",
    "        # Output layer weights and biases\n",
    "        self.W_o = np.random.uniform(size=(hidden_size, output_size),high=0.1, low=-0.1)\n",
    "        self.b_o = np.random.uniform(size=output_size,high=0.1, low=-0.1)\n",
    "\n",
    "        # Store the input size, hidden size and output size\n",
    "        self.input_size = input_size\n",
    "        self.hidden_size = hidden_size\n",
    "        self.output_size = output_size\n",
    "\n",
    "    def forward_hidden1(self, X):\n",
    "        # Compute the linear combination of the input and weights\n",
    "        self.Z_h1 = np.dot(X, self.W_h1) + self.b_h1 # wx+b\n",
    "\n",
    "        # Apply the sigmoid activation function\n",
    "        return sigmoid(self.Z_h1)\n",
    "    \n",
    "    def forward_hidden2(self, H1):\n",
    "        # Compute the linear combination of the input and weights\n",
    "        self.Z_h2 = np.dot(H1, self.W_h2) + self.b_h2 # wx+b\n",
    "\n",
    "        # Apply the sigmoid activation function\n",
    "        return sigmoid(self.Z_h2)\n",
    "\n",
    "    def forward_output(self, H2):\n",
    "        # Compute the linear combination of the hidden layer activation and weights\n",
    "        self.Z_o = np.dot(H2, self.W_o) + self.b_o # wx+b\n",
    "\n",
    "        # Apply the sigmoid activation function\n",
    "        return sigmoid(self.Z_o)\n",
    "\n",
    "    def forward(self, X):\n",
    "        # Compute the forward activations of the hidden and output layers\n",
    "        H1 = self.forward_hidden1(X)\n",
    "        H2 = self.forward_hidden2(H1)\n",
    "        Y = self.forward_output(H2)\n",
    "        return Y\n",
    "\n",
    "    def loss(self, X, y):\n",
    "        y_onehot = one_hot(self.output_size, y.astype(int))\n",
    "        y_pred = self.forward(X)\n",
    "        return nll(y_onehot, y_pred)\n",
    "\n",
    "    def grad_loss(self, X, y_true):\n",
    "        y_true = one_hot(self.output_size, y_true)\n",
    "        y_pred = self.forward(X)\n",
    "\n",
    "        # Compute the error at the output layer\n",
    "        error_o = y_pred - y_true\n",
    "\n",
    "        # Compute the gradient of the loss with respect to W_o and b_o\n",
    "        grad_W_o = np.dot(self.Z_h2.T, error_o)\n",
    "        grad_b_o = np.sum(error_o, axis=0)\n",
    "\n",
    "        # Compute the error at the second hidden layer\n",
    "        error_h2 = np.dot(error_o, self.W_o.T) * dsigmoid(self.Z_h2)\n",
    "        grad_W_h2 = np.dot(self.Z_h1.T, error_h2)\n",
    "        grad_b_h2 = np.sum(error_h2, axis=0)\n",
    "\n",
    "        # Compute the error at the first hidden layer\n",
    "        error_h1 = np.dot(error_h2, self.W_h2.T) * dsigmoid(self.Z_h1)\n",
    "        grad_W_h1 = np.dot(X.T, error_h1)\n",
    "        grad_b_h1 = np.sum(error_h1, axis=0)\n",
    "\n",
    "        return {\n",
    "            \"W_h1\": grad_W_h1, \"b_h1\": grad_b_h1,\n",
    "            \"W_h2\": grad_W_h2, \"b_h2\": grad_b_h2,\n",
    "            \"W_o\": grad_W_o, \"b_o\": grad_b_o\n",
    "        }\n",
    "\n",
    "    def train(self, x, y, learning_rate):\n",
    "        # Ensure x is 2D\n",
    "        x = x[np.newaxis, :]\n",
    "        # Compute the gradient for the sample and update the weights\n",
    "        grads = self.grad_loss(x, y)\n",
    "    \n",
    "        self.W_h1 -= learning_rate * grads[\"W_h1\"]\n",
    "        self.b_h1 -= learning_rate * grads[\"b_h1\"]\n",
    "        self.W_h2 -= learning_rate * grads[\"W_h2\"]\n",
    "        self.b_h2 -= learning_rate * grads[\"b_h2\"]\n",
    "        self.W_o -= learning_rate * grads[\"W_o\"]\n",
    "        self.b_o -= learning_rate * grads[\"b_o\"]\n",
    "        \n",
    "    def predict(self, X):\n",
    "        if len(X.shape) == 1:\n",
    "            return np.argmax(self.forward(X))\n",
    "        else:\n",
    "            return np.argmax(self.forward(X), axis=1)\n",
    "\n",
    "    def accuracy(self, X, y):\n",
    "        y_preds = np.argmax(self.forward(X), axis=1)\n",
    "        return np.mean(y_preds == y)\n",
    "    \n",
    "# Raise an exception if you try to run this cell without having implemented the NeuralNet class\n",
    "nn = NeuralNet(input_size=64, hidden_size=32, output_size=10)\n",
    "try:\n",
    "    assert(nn.forward(np.zeros((1, 64))).shape == (1, 10))\n",
    "    assert(nn.loss(np.zeros((1, 64)), np.zeros(1)) > 0)\n",
    "except:\n",
    "    raise NotImplementedError(\"You need to correctly implement the NeuralNet class.\")\n"
   ]
  },
  {
   "cell_type": "code",
   "execution_count": 36,
   "metadata": {},
   "outputs": [
    {
     "name": "stdout",
     "output_type": "stream",
     "text": [
      "Random init: train loss: 1042.63907, train acc: 0.099, test acc: 0.100\n",
      "Epoch #1, train loss: 2633.66304, train acc: 0.109, test acc: 0.067\n",
      "Epoch #2, train loss: 3390.38314, train acc: 0.109, test acc: 0.063\n",
      "Epoch #3, train loss: 3496.03077, train acc: 0.109, test acc: 0.063\n",
      "Epoch #4, train loss: 3511.13680, train acc: 0.109, test acc: 0.063\n",
      "Epoch #5, train loss: 3513.32370, train acc: 0.109, test acc: 0.063\n",
      "Epoch #6, train loss: 3513.64001, train acc: 0.109, test acc: 0.063\n",
      "Epoch #7, train loss: 3513.68268, train acc: 0.109, test acc: 0.063\n",
      "Epoch #8, train loss: 3513.68483, train acc: 0.109, test acc: 0.063\n",
      "Epoch #9, train loss: 3513.68082, train acc: 0.109, test acc: 0.063\n",
      "Epoch #10, train loss: 3513.67572, train acc: 0.109, test acc: 0.063\n",
      "Epoch #11, train loss: 3513.67024, train acc: 0.109, test acc: 0.063\n",
      "Epoch #12, train loss: 3513.66442, train acc: 0.109, test acc: 0.063\n",
      "Epoch #13, train loss: 3513.65818, train acc: 0.109, test acc: 0.063\n",
      "Epoch #14, train loss: 3513.65142, train acc: 0.109, test acc: 0.063\n",
      "Epoch #15, train loss: 3513.64401, train acc: 0.109, test acc: 0.063\n"
     ]
    }
   ],
   "source": [
    "n_hidden = 10\n",
    "model = NeuralNet2(n_features, n_hidden, n_classes)\n",
    "\n",
    "losses, accuracies, accuracies_test = [], [], []\n",
    "losses.append(model.loss(X_train, y_train))\n",
    "accuracies.append(model.accuracy(X_train, y_train))\n",
    "accuracies_test.append(model.accuracy(X_test, y_test))\n",
    "\n",
    "print(\"Random init: train loss: %0.5f, train acc: %0.3f, test acc: %0.3f\"\n",
    "      % (losses[-1], accuracies[-1], accuracies_test[-1]))\n",
    "\n",
    "for epoch in range(15):\n",
    "    for i, (x, y) in enumerate(zip(X_train, y_train)):\n",
    "        model.train(x, y, 0.001) # Learning rate here is set to 0.001\n",
    "\n",
    "    losses.append(model.loss(X_train, y_train))\n",
    "    accuracies.append(model.accuracy(X_train, y_train))\n",
    "    accuracies_test.append(model.accuracy(X_test, y_test))\n",
    "    print(\"Epoch #%d, train loss: %0.5f, train acc: %0.3f, test acc: %0.3f\"\n",
    "          % (epoch + 1, losses[-1], accuracies[-1], accuracies_test[-1]))"
   ]
  },
  {
   "cell_type": "markdown",
   "metadata": {},
   "source": [
    ">The best accuracy of 97% was with one hidden layer and a hidden layer size of 100 neurons."
   ]
  }
 ],
 "metadata": {
  "kernelspec": {
   "display_name": "dsi_participant",
   "language": "python",
   "name": "python3"
  },
  "language_info": {
   "codemirror_mode": {
    "name": "ipython",
    "version": 3
   },
   "file_extension": ".py",
   "mimetype": "text/x-python",
   "name": "python",
   "nbconvert_exporter": "python",
   "pygments_lexer": "ipython3",
   "version": "3.9.21"
  }
 },
 "nbformat": 4,
 "nbformat_minor": 4
}
